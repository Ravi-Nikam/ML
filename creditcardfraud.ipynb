{
  "nbformat": 4,
  "nbformat_minor": 0,
  "metadata": {
    "colab": {
      "name": "creditcardfraud.ipynb",
      "provenance": [],
      "collapsed_sections": [],
      "authorship_tag": "ABX9TyNa53bKFttElOE+g3azYxV2",
      "include_colab_link": true
    },
    "kernelspec": {
      "name": "python3",
      "display_name": "Python 3"
    }
  },
  "cells": [
    {
      "cell_type": "markdown",
      "metadata": {
        "id": "view-in-github",
        "colab_type": "text"
      },
      "source": [
        "<a href=\"https://colab.research.google.com/github/Ravi-Nikam/ML/blob/main/creditcardfraud.ipynb\" target=\"_parent\"><img src=\"https://colab.research.google.com/assets/colab-badge.svg\" alt=\"Open In Colab\"/></a>"
      ]
    },
    {
      "cell_type": "markdown",
      "metadata": {
        "id": "Uh8LEu5H5JZU"
      },
      "source": [
        "** Credit Card Fraud detection **"
      ]
    },
    {
      "cell_type": "code",
      "metadata": {
        "colab": {
          "base_uri": "https://localhost:8080/"
        },
        "id": "Nwcdic3E0sOt",
        "outputId": "06d7cb9b-14ad-4cae-fa66-85d4c03d6b53"
      },
      "source": [
        "from google.colab import drive\n",
        "drive.mount('/content/drive')"
      ],
      "execution_count": 1,
      "outputs": [
        {
          "output_type": "stream",
          "text": [
            "Mounted at /content/drive\n"
          ],
          "name": "stdout"
        }
      ]
    },
    {
      "cell_type": "code",
      "metadata": {
        "colab": {
          "base_uri": "https://localhost:8080/",
          "height": 217
        },
        "id": "LMbVea1h5ZpV",
        "outputId": "1eabea41-25b2-4d9c-d6b0-513169b09619"
      },
      "source": [
        "import pandas as pd\r\n",
        "data=pd.read_csv('/content/drive/MyDrive/ML/ML_Data_set/Credit card fraud/creditcard.csv')\r\n",
        "data.head()"
      ],
      "execution_count": 2,
      "outputs": [
        {
          "output_type": "execute_result",
          "data": {
            "text/html": [
              "<div>\n",
              "<style scoped>\n",
              "    .dataframe tbody tr th:only-of-type {\n",
              "        vertical-align: middle;\n",
              "    }\n",
              "\n",
              "    .dataframe tbody tr th {\n",
              "        vertical-align: top;\n",
              "    }\n",
              "\n",
              "    .dataframe thead th {\n",
              "        text-align: right;\n",
              "    }\n",
              "</style>\n",
              "<table border=\"1\" class=\"dataframe\">\n",
              "  <thead>\n",
              "    <tr style=\"text-align: right;\">\n",
              "      <th></th>\n",
              "      <th>Time</th>\n",
              "      <th>V1</th>\n",
              "      <th>V2</th>\n",
              "      <th>V3</th>\n",
              "      <th>V4</th>\n",
              "      <th>V5</th>\n",
              "      <th>V6</th>\n",
              "      <th>V7</th>\n",
              "      <th>V8</th>\n",
              "      <th>V9</th>\n",
              "      <th>V10</th>\n",
              "      <th>V11</th>\n",
              "      <th>V12</th>\n",
              "      <th>V13</th>\n",
              "      <th>V14</th>\n",
              "      <th>V15</th>\n",
              "      <th>V16</th>\n",
              "      <th>V17</th>\n",
              "      <th>V18</th>\n",
              "      <th>V19</th>\n",
              "      <th>V20</th>\n",
              "      <th>V21</th>\n",
              "      <th>V22</th>\n",
              "      <th>V23</th>\n",
              "      <th>V24</th>\n",
              "      <th>V25</th>\n",
              "      <th>V26</th>\n",
              "      <th>V27</th>\n",
              "      <th>V28</th>\n",
              "      <th>Amount</th>\n",
              "      <th>Class</th>\n",
              "    </tr>\n",
              "  </thead>\n",
              "  <tbody>\n",
              "    <tr>\n",
              "      <th>0</th>\n",
              "      <td>0</td>\n",
              "      <td>-1.359807</td>\n",
              "      <td>-0.072781</td>\n",
              "      <td>2.536347</td>\n",
              "      <td>1.378155</td>\n",
              "      <td>-0.338321</td>\n",
              "      <td>0.462388</td>\n",
              "      <td>0.239599</td>\n",
              "      <td>0.098698</td>\n",
              "      <td>0.363787</td>\n",
              "      <td>0.090794</td>\n",
              "      <td>-0.551600</td>\n",
              "      <td>-0.617801</td>\n",
              "      <td>-0.991390</td>\n",
              "      <td>-0.311169</td>\n",
              "      <td>1.468177</td>\n",
              "      <td>-0.470401</td>\n",
              "      <td>0.207971</td>\n",
              "      <td>0.025791</td>\n",
              "      <td>0.403993</td>\n",
              "      <td>0.251412</td>\n",
              "      <td>-0.018307</td>\n",
              "      <td>0.277838</td>\n",
              "      <td>-0.110474</td>\n",
              "      <td>0.066928</td>\n",
              "      <td>0.128539</td>\n",
              "      <td>-0.189115</td>\n",
              "      <td>0.133558</td>\n",
              "      <td>-0.021053</td>\n",
              "      <td>149.62</td>\n",
              "      <td>0.0</td>\n",
              "    </tr>\n",
              "    <tr>\n",
              "      <th>1</th>\n",
              "      <td>0</td>\n",
              "      <td>1.191857</td>\n",
              "      <td>0.266151</td>\n",
              "      <td>0.166480</td>\n",
              "      <td>0.448154</td>\n",
              "      <td>0.060018</td>\n",
              "      <td>-0.082361</td>\n",
              "      <td>-0.078803</td>\n",
              "      <td>0.085102</td>\n",
              "      <td>-0.255425</td>\n",
              "      <td>-0.166974</td>\n",
              "      <td>1.612727</td>\n",
              "      <td>1.065235</td>\n",
              "      <td>0.489095</td>\n",
              "      <td>-0.143772</td>\n",
              "      <td>0.635558</td>\n",
              "      <td>0.463917</td>\n",
              "      <td>-0.114805</td>\n",
              "      <td>-0.183361</td>\n",
              "      <td>-0.145783</td>\n",
              "      <td>-0.069083</td>\n",
              "      <td>-0.225775</td>\n",
              "      <td>-0.638672</td>\n",
              "      <td>0.101288</td>\n",
              "      <td>-0.339846</td>\n",
              "      <td>0.167170</td>\n",
              "      <td>0.125895</td>\n",
              "      <td>-0.008983</td>\n",
              "      <td>0.014724</td>\n",
              "      <td>2.69</td>\n",
              "      <td>0.0</td>\n",
              "    </tr>\n",
              "    <tr>\n",
              "      <th>2</th>\n",
              "      <td>1</td>\n",
              "      <td>-1.358354</td>\n",
              "      <td>-1.340163</td>\n",
              "      <td>1.773209</td>\n",
              "      <td>0.379780</td>\n",
              "      <td>-0.503198</td>\n",
              "      <td>1.800499</td>\n",
              "      <td>0.791461</td>\n",
              "      <td>0.247676</td>\n",
              "      <td>-1.514654</td>\n",
              "      <td>0.207643</td>\n",
              "      <td>0.624501</td>\n",
              "      <td>0.066084</td>\n",
              "      <td>0.717293</td>\n",
              "      <td>-0.165946</td>\n",
              "      <td>2.345865</td>\n",
              "      <td>-2.890083</td>\n",
              "      <td>1.109969</td>\n",
              "      <td>-0.121359</td>\n",
              "      <td>-2.261857</td>\n",
              "      <td>0.524980</td>\n",
              "      <td>0.247998</td>\n",
              "      <td>0.771679</td>\n",
              "      <td>0.909412</td>\n",
              "      <td>-0.689281</td>\n",
              "      <td>-0.327642</td>\n",
              "      <td>-0.139097</td>\n",
              "      <td>-0.055353</td>\n",
              "      <td>-0.059752</td>\n",
              "      <td>378.66</td>\n",
              "      <td>0.0</td>\n",
              "    </tr>\n",
              "    <tr>\n",
              "      <th>3</th>\n",
              "      <td>1</td>\n",
              "      <td>-0.966272</td>\n",
              "      <td>-0.185226</td>\n",
              "      <td>1.792993</td>\n",
              "      <td>-0.863291</td>\n",
              "      <td>-0.010309</td>\n",
              "      <td>1.247203</td>\n",
              "      <td>0.237609</td>\n",
              "      <td>0.377436</td>\n",
              "      <td>-1.387024</td>\n",
              "      <td>-0.054952</td>\n",
              "      <td>-0.226487</td>\n",
              "      <td>0.178228</td>\n",
              "      <td>0.507757</td>\n",
              "      <td>-0.287924</td>\n",
              "      <td>-0.631418</td>\n",
              "      <td>-1.059647</td>\n",
              "      <td>-0.684093</td>\n",
              "      <td>1.965775</td>\n",
              "      <td>-1.232622</td>\n",
              "      <td>-0.208038</td>\n",
              "      <td>-0.108300</td>\n",
              "      <td>0.005274</td>\n",
              "      <td>-0.190321</td>\n",
              "      <td>-1.175575</td>\n",
              "      <td>0.647376</td>\n",
              "      <td>-0.221929</td>\n",
              "      <td>0.062723</td>\n",
              "      <td>0.061458</td>\n",
              "      <td>123.50</td>\n",
              "      <td>0.0</td>\n",
              "    </tr>\n",
              "    <tr>\n",
              "      <th>4</th>\n",
              "      <td>2</td>\n",
              "      <td>-1.158233</td>\n",
              "      <td>0.877737</td>\n",
              "      <td>1.548718</td>\n",
              "      <td>0.403034</td>\n",
              "      <td>-0.407193</td>\n",
              "      <td>0.095921</td>\n",
              "      <td>0.592941</td>\n",
              "      <td>-0.270533</td>\n",
              "      <td>0.817739</td>\n",
              "      <td>0.753074</td>\n",
              "      <td>-0.822843</td>\n",
              "      <td>0.538196</td>\n",
              "      <td>1.345852</td>\n",
              "      <td>-1.119670</td>\n",
              "      <td>0.175121</td>\n",
              "      <td>-0.451449</td>\n",
              "      <td>-0.237033</td>\n",
              "      <td>-0.038195</td>\n",
              "      <td>0.803487</td>\n",
              "      <td>0.408542</td>\n",
              "      <td>-0.009431</td>\n",
              "      <td>0.798278</td>\n",
              "      <td>-0.137458</td>\n",
              "      <td>0.141267</td>\n",
              "      <td>-0.206010</td>\n",
              "      <td>0.502292</td>\n",
              "      <td>0.219422</td>\n",
              "      <td>0.215153</td>\n",
              "      <td>69.99</td>\n",
              "      <td>0.0</td>\n",
              "    </tr>\n",
              "  </tbody>\n",
              "</table>\n",
              "</div>"
            ],
            "text/plain": [
              "   Time        V1        V2        V3  ...       V27       V28  Amount  Class\n",
              "0     0 -1.359807 -0.072781  2.536347  ...  0.133558 -0.021053  149.62    0.0\n",
              "1     0  1.191857  0.266151  0.166480  ... -0.008983  0.014724    2.69    0.0\n",
              "2     1 -1.358354 -1.340163  1.773209  ... -0.055353 -0.059752  378.66    0.0\n",
              "3     1 -0.966272 -0.185226  1.792993  ...  0.062723  0.061458  123.50    0.0\n",
              "4     2 -1.158233  0.877737  1.548718  ...  0.219422  0.215153   69.99    0.0\n",
              "\n",
              "[5 rows x 31 columns]"
            ]
          },
          "metadata": {
            "tags": []
          },
          "execution_count": 2
        }
      ]
    },
    {
      "cell_type": "code",
      "metadata": {
        "colab": {
          "base_uri": "https://localhost:8080/"
        },
        "id": "m4YKflYZEjPO",
        "outputId": "ce3d7f5c-8f2f-479d-ac61-53ffbea6b643"
      },
      "source": [
        "#checking any null value in data\r\n",
        "data.isnull().values.any()"
      ],
      "execution_count": 10,
      "outputs": [
        {
          "output_type": "execute_result",
          "data": {
            "text/plain": [
              "True"
            ]
          },
          "metadata": {
            "tags": []
          },
          "execution_count": 10
        }
      ]
    },
    {
      "cell_type": "code",
      "metadata": {
        "colab": {
          "base_uri": "https://localhost:8080/",
          "height": 307
        },
        "id": "uidJeNtDFKDB",
        "outputId": "171e9f12-9557-415a-a301-8d20a0dc21b3"
      },
      "source": [
        "data.describe()"
      ],
      "execution_count": 26,
      "outputs": [
        {
          "output_type": "execute_result",
          "data": {
            "text/html": [
              "<div>\n",
              "<style scoped>\n",
              "    .dataframe tbody tr th:only-of-type {\n",
              "        vertical-align: middle;\n",
              "    }\n",
              "\n",
              "    .dataframe tbody tr th {\n",
              "        vertical-align: top;\n",
              "    }\n",
              "\n",
              "    .dataframe thead th {\n",
              "        text-align: right;\n",
              "    }\n",
              "</style>\n",
              "<table border=\"1\" class=\"dataframe\">\n",
              "  <thead>\n",
              "    <tr style=\"text-align: right;\">\n",
              "      <th></th>\n",
              "      <th>Time</th>\n",
              "      <th>V1</th>\n",
              "      <th>V2</th>\n",
              "      <th>V3</th>\n",
              "      <th>V4</th>\n",
              "      <th>V5</th>\n",
              "      <th>V6</th>\n",
              "      <th>V7</th>\n",
              "      <th>V8</th>\n",
              "      <th>V9</th>\n",
              "      <th>V10</th>\n",
              "      <th>V11</th>\n",
              "      <th>V12</th>\n",
              "      <th>V13</th>\n",
              "      <th>V14</th>\n",
              "      <th>V15</th>\n",
              "      <th>V16</th>\n",
              "      <th>V17</th>\n",
              "      <th>V18</th>\n",
              "      <th>V19</th>\n",
              "      <th>V20</th>\n",
              "      <th>V21</th>\n",
              "      <th>V22</th>\n",
              "      <th>V23</th>\n",
              "      <th>V24</th>\n",
              "      <th>V25</th>\n",
              "      <th>V26</th>\n",
              "      <th>V27</th>\n",
              "      <th>V28</th>\n",
              "      <th>Amount</th>\n",
              "      <th>Class</th>\n",
              "    </tr>\n",
              "  </thead>\n",
              "  <tbody>\n",
              "    <tr>\n",
              "      <th>count</th>\n",
              "      <td>142686.000000</td>\n",
              "      <td>142686.000000</td>\n",
              "      <td>142686.000000</td>\n",
              "      <td>142686.000000</td>\n",
              "      <td>142686.000000</td>\n",
              "      <td>142686.000000</td>\n",
              "      <td>142686.000000</td>\n",
              "      <td>142685.000000</td>\n",
              "      <td>142685.000000</td>\n",
              "      <td>142685.000000</td>\n",
              "      <td>142685.000000</td>\n",
              "      <td>142685.000000</td>\n",
              "      <td>142685.000000</td>\n",
              "      <td>142685.000000</td>\n",
              "      <td>142685.000000</td>\n",
              "      <td>142685.000000</td>\n",
              "      <td>142685.000000</td>\n",
              "      <td>142685.000000</td>\n",
              "      <td>142685.000000</td>\n",
              "      <td>142685.000000</td>\n",
              "      <td>142685.000000</td>\n",
              "      <td>142685.000000</td>\n",
              "      <td>142685.000000</td>\n",
              "      <td>142685.000000</td>\n",
              "      <td>142685.000000</td>\n",
              "      <td>142685.000000</td>\n",
              "      <td>142685.000000</td>\n",
              "      <td>142685.000000</td>\n",
              "      <td>142685.000000</td>\n",
              "      <td>142685.000000</td>\n",
              "      <td>142685.000000</td>\n",
              "    </tr>\n",
              "    <tr>\n",
              "      <th>mean</th>\n",
              "      <td>52467.147316</td>\n",
              "      <td>-0.249866</td>\n",
              "      <td>0.021475</td>\n",
              "      <td>0.673591</td>\n",
              "      <td>0.137175</td>\n",
              "      <td>-0.282893</td>\n",
              "      <td>0.078072</td>\n",
              "      <td>-0.118122</td>\n",
              "      <td>0.065105</td>\n",
              "      <td>-0.089127</td>\n",
              "      <td>-0.022768</td>\n",
              "      <td>0.208382</td>\n",
              "      <td>0.030940</td>\n",
              "      <td>-0.018766</td>\n",
              "      <td>0.028413</td>\n",
              "      <td>0.229201</td>\n",
              "      <td>-0.008491</td>\n",
              "      <td>0.041905</td>\n",
              "      <td>-0.083812</td>\n",
              "      <td>-0.017128</td>\n",
              "      <td>0.042349</td>\n",
              "      <td>-0.039818</td>\n",
              "      <td>-0.118039</td>\n",
              "      <td>-0.033193</td>\n",
              "      <td>0.011335</td>\n",
              "      <td>0.130821</td>\n",
              "      <td>0.021535</td>\n",
              "      <td>0.000636</td>\n",
              "      <td>0.002207</td>\n",
              "      <td>90.656745</td>\n",
              "      <td>0.001899</td>\n",
              "    </tr>\n",
              "    <tr>\n",
              "      <th>std</th>\n",
              "      <td>21132.772484</td>\n",
              "      <td>1.814390</td>\n",
              "      <td>1.610366</td>\n",
              "      <td>1.266182</td>\n",
              "      <td>1.322208</td>\n",
              "      <td>1.304916</td>\n",
              "      <td>1.282313</td>\n",
              "      <td>1.165277</td>\n",
              "      <td>1.233326</td>\n",
              "      <td>1.090355</td>\n",
              "      <td>1.053220</td>\n",
              "      <td>1.048352</td>\n",
              "      <td>1.018780</td>\n",
              "      <td>0.997775</td>\n",
              "      <td>0.918238</td>\n",
              "      <td>0.925329</td>\n",
              "      <td>0.877360</td>\n",
              "      <td>0.885128</td>\n",
              "      <td>0.832183</td>\n",
              "      <td>0.808521</td>\n",
              "      <td>0.719355</td>\n",
              "      <td>0.720754</td>\n",
              "      <td>0.634547</td>\n",
              "      <td>0.589482</td>\n",
              "      <td>0.595664</td>\n",
              "      <td>0.437342</td>\n",
              "      <td>0.492358</td>\n",
              "      <td>0.389189</td>\n",
              "      <td>0.306297</td>\n",
              "      <td>246.361798</td>\n",
              "      <td>0.043540</td>\n",
              "    </tr>\n",
              "    <tr>\n",
              "      <th>min</th>\n",
              "      <td>0.000000</td>\n",
              "      <td>-56.407510</td>\n",
              "      <td>-72.715728</td>\n",
              "      <td>-33.680984</td>\n",
              "      <td>-5.519697</td>\n",
              "      <td>-42.147898</td>\n",
              "      <td>-26.160506</td>\n",
              "      <td>-31.764946</td>\n",
              "      <td>-73.216718</td>\n",
              "      <td>-9.283925</td>\n",
              "      <td>-18.271168</td>\n",
              "      <td>-4.049895</td>\n",
              "      <td>-17.769143</td>\n",
              "      <td>-5.791881</td>\n",
              "      <td>-19.214325</td>\n",
              "      <td>-4.152532</td>\n",
              "      <td>-13.563273</td>\n",
              "      <td>-25.162799</td>\n",
              "      <td>-9.498746</td>\n",
              "      <td>-7.213527</td>\n",
              "      <td>-21.024817</td>\n",
              "      <td>-34.830382</td>\n",
              "      <td>-10.933144</td>\n",
              "      <td>-44.807735</td>\n",
              "      <td>-2.836627</td>\n",
              "      <td>-10.295397</td>\n",
              "      <td>-2.534330</td>\n",
              "      <td>-22.565679</td>\n",
              "      <td>-11.710896</td>\n",
              "      <td>0.000000</td>\n",
              "      <td>0.000000</td>\n",
              "    </tr>\n",
              "    <tr>\n",
              "      <th>25%</th>\n",
              "      <td>38220.000000</td>\n",
              "      <td>-1.021370</td>\n",
              "      <td>-0.559620</td>\n",
              "      <td>0.171460</td>\n",
              "      <td>-0.718073</td>\n",
              "      <td>-0.903666</td>\n",
              "      <td>-0.661817</td>\n",
              "      <td>-0.604765</td>\n",
              "      <td>-0.130507</td>\n",
              "      <td>-0.713023</td>\n",
              "      <td>-0.495894</td>\n",
              "      <td>-0.550015</td>\n",
              "      <td>-0.371099</td>\n",
              "      <td>-0.673527</td>\n",
              "      <td>-0.343542</td>\n",
              "      <td>-0.307235</td>\n",
              "      <td>-0.474992</td>\n",
              "      <td>-0.411813</td>\n",
              "      <td>-0.548735</td>\n",
              "      <td>-0.505628</td>\n",
              "      <td>-0.169678</td>\n",
              "      <td>-0.225821</td>\n",
              "      <td>-0.547348</td>\n",
              "      <td>-0.171807</td>\n",
              "      <td>-0.325702</td>\n",
              "      <td>-0.136000</td>\n",
              "      <td>-0.327190</td>\n",
              "      <td>-0.060116</td>\n",
              "      <td>-0.004211</td>\n",
              "      <td>5.990000</td>\n",
              "      <td>0.000000</td>\n",
              "    </tr>\n",
              "    <tr>\n",
              "      <th>50%</th>\n",
              "      <td>54262.000000</td>\n",
              "      <td>-0.272512</td>\n",
              "      <td>0.106478</td>\n",
              "      <td>0.750705</td>\n",
              "      <td>0.164362</td>\n",
              "      <td>-0.315029</td>\n",
              "      <td>-0.177563</td>\n",
              "      <td>-0.064558</td>\n",
              "      <td>0.081087</td>\n",
              "      <td>-0.153461</td>\n",
              "      <td>-0.100438</td>\n",
              "      <td>0.121322</td>\n",
              "      <td>0.168893</td>\n",
              "      <td>-0.020292</td>\n",
              "      <td>0.059256</td>\n",
              "      <td>0.340130</td>\n",
              "      <td>0.069720</td>\n",
              "      <td>-0.023741</td>\n",
              "      <td>-0.083011</td>\n",
              "      <td>-0.017037</td>\n",
              "      <td>-0.026762</td>\n",
              "      <td>-0.059558</td>\n",
              "      <td>-0.094326</td>\n",
              "      <td>-0.045124</td>\n",
              "      <td>0.068363</td>\n",
              "      <td>0.167387</td>\n",
              "      <td>-0.066478</td>\n",
              "      <td>0.012121</td>\n",
              "      <td>0.023614</td>\n",
              "      <td>23.510000</td>\n",
              "      <td>0.000000</td>\n",
              "    </tr>\n",
              "    <tr>\n",
              "      <th>75%</th>\n",
              "      <td>70239.000000</td>\n",
              "      <td>1.158444</td>\n",
              "      <td>0.778168</td>\n",
              "      <td>1.363604</td>\n",
              "      <td>0.991310</td>\n",
              "      <td>0.236679</td>\n",
              "      <td>0.462727</td>\n",
              "      <td>0.409170</td>\n",
              "      <td>0.375483</td>\n",
              "      <td>0.487043</td>\n",
              "      <td>0.418901</td>\n",
              "      <td>1.029243</td>\n",
              "      <td>0.654173</td>\n",
              "      <td>0.641757</td>\n",
              "      <td>0.452515</td>\n",
              "      <td>0.897133</td>\n",
              "      <td>0.531139</td>\n",
              "      <td>0.427672</td>\n",
              "      <td>0.388080</td>\n",
              "      <td>0.479457</td>\n",
              "      <td>0.164346</td>\n",
              "      <td>0.113044</td>\n",
              "      <td>0.300427</td>\n",
              "      <td>0.083109</td>\n",
              "      <td>0.408281</td>\n",
              "      <td>0.420155</td>\n",
              "      <td>0.284409</td>\n",
              "      <td>0.087763</td>\n",
              "      <td>0.076986</td>\n",
              "      <td>80.050000</td>\n",
              "      <td>0.000000</td>\n",
              "    </tr>\n",
              "    <tr>\n",
              "      <th>max</th>\n",
              "      <td>84876.000000</td>\n",
              "      <td>1.960497</td>\n",
              "      <td>18.902453</td>\n",
              "      <td>9.382558</td>\n",
              "      <td>16.715537</td>\n",
              "      <td>34.801666</td>\n",
              "      <td>22.529298</td>\n",
              "      <td>36.677268</td>\n",
              "      <td>20.007208</td>\n",
              "      <td>15.594995</td>\n",
              "      <td>23.745136</td>\n",
              "      <td>12.018913</td>\n",
              "      <td>7.848392</td>\n",
              "      <td>4.465413</td>\n",
              "      <td>10.526766</td>\n",
              "      <td>5.784514</td>\n",
              "      <td>6.098529</td>\n",
              "      <td>9.253526</td>\n",
              "      <td>5.041069</td>\n",
              "      <td>5.228342</td>\n",
              "      <td>39.420904</td>\n",
              "      <td>27.202839</td>\n",
              "      <td>10.503090</td>\n",
              "      <td>19.002942</td>\n",
              "      <td>4.022866</td>\n",
              "      <td>5.541598</td>\n",
              "      <td>3.517346</td>\n",
              "      <td>12.152401</td>\n",
              "      <td>33.847808</td>\n",
              "      <td>19656.530000</td>\n",
              "      <td>1.000000</td>\n",
              "    </tr>\n",
              "  </tbody>\n",
              "</table>\n",
              "</div>"
            ],
            "text/plain": [
              "                Time             V1  ...         Amount          Class\n",
              "count  142686.000000  142686.000000  ...  142685.000000  142685.000000\n",
              "mean    52467.147316      -0.249866  ...      90.656745       0.001899\n",
              "std     21132.772484       1.814390  ...     246.361798       0.043540\n",
              "min         0.000000     -56.407510  ...       0.000000       0.000000\n",
              "25%     38220.000000      -1.021370  ...       5.990000       0.000000\n",
              "50%     54262.000000      -0.272512  ...      23.510000       0.000000\n",
              "75%     70239.000000       1.158444  ...      80.050000       0.000000\n",
              "max     84876.000000       1.960497  ...   19656.530000       1.000000\n",
              "\n",
              "[8 rows x 31 columns]"
            ]
          },
          "metadata": {
            "tags": []
          },
          "execution_count": 26
        }
      ]
    },
    {
      "cell_type": "code",
      "metadata": {
        "id": "b7jc2fvXFGIa"
      },
      "source": [
        "data.dropna(axis=0,inplace=True)"
      ],
      "execution_count": 31,
      "outputs": []
    },
    {
      "cell_type": "code",
      "metadata": {
        "colab": {
          "base_uri": "https://localhost:8080/",
          "height": 278
        },
        "id": "T_WvCZUgL1o4",
        "outputId": "f439823d-baf9-4fd1-d9c8-9978cd3e8d4b"
      },
      "source": [
        "import seaborn as sns\r\n",
        "import matplotlib.pyplot as plt\r\n",
        "sns.countplot(x='Class',data=data)\r\n",
        "plt.show()"
      ],
      "execution_count": 33,
      "outputs": [
        {
          "output_type": "display_data",
          "data": {
            "image/png": "[encoded data removed]",
            "text/plain": [
              "<Figure size 432x288 with 1 Axes>"
            ]
          },
          "metadata": {
            "tags": [],
            "needs_background": "light"
          }
        }
      ]
    },
    {
      "cell_type": "code",
      "metadata": {
        "id": "k00GWFh6MHAa"
      },
      "source": [
        "Fraud=data[data['Class']==1.0]\r\n",
        "Normal=data[data['Class']==0.0]"
      ],
      "execution_count": 37,
      "outputs": []
    },
    {
      "cell_type": "code",
      "metadata": {
        "colab": {
          "base_uri": "https://localhost:8080/"
        },
        "id": "EBGuQCc4MrQo",
        "outputId": "f63fce0f-4252-42e1-adf8-7290be34065e"
      },
      "source": [
        "print(Fraud.shape,Normal.shape)"
      ],
      "execution_count": 38,
      "outputs": [
        {
          "output_type": "stream",
          "text": [
            "(271, 31) (142414, 31)\n"
          ],
          "name": "stdout"
        }
      ]
    },
    {
      "cell_type": "code",
      "metadata": {
        "colab": {
          "base_uri": "https://localhost:8080/",
          "height": 264
        },
        "id": "kzg8li6JMxLu",
        "outputId": "14bc26f3-98b4-4b88-ea8e-64fe15f84023"
      },
      "source": [
        "plt.hist(x=Fraud.Amount)\r\n",
        "plt.show()"
      ],
      "execution_count": 44,
      "outputs": [
        {
          "output_type": "display_data",
          "data": {
            "image/png": "[encoded data removed]",
            "text/plain": [
              "<Figure size 432x288 with 1 Axes>"
            ]
          },
          "metadata": {
            "tags": [],
            "needs_background": "light"
          }
        }
      ]
    },
    {
      "cell_type": "code",
      "metadata": {
        "colab": {
          "base_uri": "https://localhost:8080/",
          "height": 264
        },
        "id": "a0yhpYDlOPD7",
        "outputId": "c34524e0-8971-4383-926c-fbf62345d2ce"
      },
      "source": [
        "plt.hist(x=Normal.Amount)\r\n",
        "plt.show()"
      ],
      "execution_count": 45,
      "outputs": [
        {
          "output_type": "display_data",
          "data": {
            "image/png": "[encoded data removed]",
            "text/plain": [
              "<Figure size 432x288 with 1 Axes>"
            ]
          },
          "metadata": {
            "tags": [],
            "needs_background": "light"
          }
        }
      ]
    },
    {
      "cell_type": "code",
      "metadata": {
        "colab": {
          "base_uri": "https://localhost:8080/",
          "height": 278
        },
        "id": "Dog9TStNOYvE",
        "outputId": "a6fd3485-59fe-4d73-89b5-8069cd2c48a9"
      },
      "source": [
        "plt.scatter(x=Fraud.Time,y=Fraud.Amount)\r\n",
        "plt.xlabel('Time')\r\n",
        "plt.ylabel('Amount')\r\n",
        "plt.show()"
      ],
      "execution_count": 51,
      "outputs": [
        {
          "output_type": "display_data",
          "data": {
            "image/png": "[encoded data removed]",
            "text/plain": [
              "<Figure size 432x288 with 1 Axes>"
            ]
          },
          "metadata": {
            "tags": [],
            "needs_background": "light"
          }
        }
      ]
    },
    {
      "cell_type": "code",
      "metadata": {
        "colab": {
          "base_uri": "https://localhost:8080/",
          "height": 278
        },
        "id": "n7YO9HV-QzcH",
        "outputId": "b40f21e3-2c4f-4963-b065-8366ca7c32d6"
      },
      "source": [
        "plt.scatter(x=Normal.Time,y=Normal.Amount)\r\n",
        "plt.xlabel('Time')\r\n",
        "plt.ylabel('Amount')\r\n",
        "plt.show()"
      ],
      "execution_count": 53,
      "outputs": [
        {
          "output_type": "display_data",
          "data": {
            "image/png": "[encoded data removed]",
            "text/plain": [
              "<Figure size 432x288 with 1 Axes>"
            ]
          },
          "metadata": {
            "tags": [],
            "needs_background": "light"
          }
        }
      ]
    },
    {
      "cell_type": "code",
      "metadata": {
        "colab": {
          "base_uri": "https://localhost:8080/"
        },
        "id": "S3FZvpZXSKhd",
        "outputId": "459e33a5-7eb1-4607-8b66-c81b38a1d2d3"
      },
      "source": [
        "print('Fraud case',len(data[data['Class']==1]))\r\n",
        "print('Normal case',len(data[data['Class']==0]))"
      ],
      "execution_count": 57,
      "outputs": [
        {
          "output_type": "stream",
          "text": [
            "Fraud case 271\n",
            "Normal case 142414\n"
          ],
          "name": "stdout"
        }
      ]
    },
    {
      "cell_type": "code",
      "metadata": {
        "colab": {
          "base_uri": "https://localhost:8080/"
        },
        "id": "jZJfcU2WSeQZ",
        "outputId": "aaeb96de-fa10-44f5-b167-640564e4c2f7"
      },
      "source": [
        "data.columns"
      ],
      "execution_count": 60,
      "outputs": [
        {
          "output_type": "execute_result",
          "data": {
            "text/plain": [
              "Index(['Time', 'V1', 'V2', 'V3', 'V4', 'V5', 'V6', 'V7', 'V8', 'V9', 'V10',\n",
              "       'V11', 'V12', 'V13', 'V14', 'V15', 'V16', 'V17', 'V18', 'V19', 'V20',\n",
              "       'V21', 'V22', 'V23', 'V24', 'V25', 'V26', 'V27', 'V28', 'Amount',\n",
              "       'Class'],\n",
              "      dtype='object')"
            ]
          },
          "metadata": {
            "tags": []
          },
          "execution_count": 60
        }
      ]
    },
    {
      "cell_type": "code",
      "metadata": {
        "id": "qBQXA--ATiUL"
      },
      "source": [
        "x=data.drop(['Class'],axis=1)"
      ],
      "execution_count": 61,
      "outputs": []
    },
    {
      "cell_type": "code",
      "metadata": {
        "id": "S1nF29x3T2Lx"
      },
      "source": [
        "y=data['Class']"
      ],
      "execution_count": 62,
      "outputs": []
    },
    {
      "cell_type": "code",
      "metadata": {
        "id": "VZU6LjOdT5Qx"
      },
      "source": [
        "from sklearn.model_selection import train_test_split\r\n",
        "x_train,x_test,y_train,y_test=train_test_split(x,y,test_size=0.25,random_state=0)"
      ],
      "execution_count": 63,
      "outputs": []
    },
    {
      "cell_type": "code",
      "metadata": {
        "colab": {
          "base_uri": "https://localhost:8080/"
        },
        "id": "R5M-51RoXFsR",
        "outputId": "fe968014-e1fd-4710-fdb4-c83007159508"
      },
      "source": [
        "from sklearn.ensemble import RandomForestClassifier\r\n",
        "rnn=RandomForestClassifier(n_estimators=30,random_state=0)\r\n",
        "rnn.fit(x_train,y_train)"
      ],
      "execution_count": 66,
      "outputs": [
        {
          "output_type": "execute_result",
          "data": {
            "text/plain": [
              "RandomForestClassifier(bootstrap=True, ccp_alpha=0.0, class_weight=None,\n",
              "                       criterion='gini', max_depth=None, max_features='auto',\n",
              "                       max_leaf_nodes=None, max_samples=None,\n",
              "                       min_impurity_decrease=0.0, min_impurity_split=None,\n",
              "                       min_samples_leaf=1, min_samples_split=2,\n",
              "                       min_weight_fraction_leaf=0.0, n_estimators=30,\n",
              "                       n_jobs=None, oob_score=False, random_state=0, verbose=0,\n",
              "                       warm_start=False)"
            ]
          },
          "metadata": {
            "tags": []
          },
          "execution_count": 66
        }
      ]
    },
    {
      "cell_type": "code",
      "metadata": {
        "id": "jxsXdPpqXpmn"
      },
      "source": [
        "y_pre=rnn.predict(x_test)"
      ],
      "execution_count": 71,
      "outputs": []
    },
    {
      "cell_type": "code",
      "metadata": {
        "colab": {
          "base_uri": "https://localhost:8080/"
        },
        "id": "5zQHDyxZaAMS",
        "outputId": "3d8c5f45-b21d-458f-c61e-f7bfe8ecaea9"
      },
      "source": [
        "from sklearn.metrics import accuracy_score\r\n",
        "accuracy=accuracy_score(y_test,y_pre)\r\n",
        "print(accuracy*100)"
      ],
      "execution_count": 77,
      "outputs": [
        {
          "output_type": "stream",
          "text": [
            "99.9551468939224\n"
          ],
          "name": "stdout"
        }
      ]
    },
    {
      "cell_type": "code",
      "metadata": {
        "colab": {
          "base_uri": "https://localhost:8080/"
        },
        "id": "Ns02sYfocGJF",
        "outputId": "0ae0e53e-5aea-4b8b-b468-1e04f2c4bad5"
      },
      "source": [
        "from sklearn.metrics import confusion_matrix\r\n",
        "cnm=confusion_matrix(y_test,y_pre)\r\n",
        "print(cnm)"
      ],
      "execution_count": 82,
      "outputs": [
        {
          "output_type": "stream",
          "text": [
            "[[35594     2]\n",
            " [   14    62]]\n"
          ],
          "name": "stdout"
        }
      ]
    },
    {
      "cell_type": "code",
      "metadata": {
        "colab": {
          "base_uri": "https://localhost:8080/"
        },
        "id": "qoaWm3uubmna",
        "outputId": "752fd31f-d8a9-424a-be49-2bf5ef9afe19"
      },
      "source": [
        "from sklearn.metrics import classification_report\r\n",
        "report=classification_report(y_test,y_pre)\r\n",
        "print(report)"
      ],
      "execution_count": 80,
      "outputs": [
        {
          "output_type": "stream",
          "text": [
            "              precision    recall  f1-score   support\n",
            "\n",
            "         0.0       1.00      1.00      1.00     35596\n",
            "         1.0       0.97      0.82      0.89        76\n",
            "\n",
            "    accuracy                           1.00     35672\n",
            "   macro avg       0.98      0.91      0.94     35672\n",
            "weighted avg       1.00      1.00      1.00     35672\n",
            "\n"
          ],
          "name": "stdout"
        }
      ]
    }
  ]
}